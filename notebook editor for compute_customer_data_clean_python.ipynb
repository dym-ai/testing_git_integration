{
  "metadata": {
    "kernelspec": {
      "display_name": "Python 3",
      "language": "python",
      "name": "python3"
    },
    "associatedRecipe": "compute_customer_data_clean_python",
    "creationTag": {
      "versionNumber": 0,
      "lastModifiedBy": {
        "login": "dryssev"
      },
      "lastModifiedOn": 1642702926612
    },
    "creator": "dryssev",
    "createdOn": 1642702926612,
    "tags": [
      "recipe-editor"
    ],
    "customFields": {}
  },
  "nbformat": 4,
  "nbformat_minor": 0,
  "cells": [
    {
      "cell_type": "markdown",
      "metadata": {},
      "source": [
        "# Python code recipe\n",
        "This is regular python code. Python coders can continue to do what they have already been doing within Dataiku. This is an edit"
      ]
    },
    {
      "execution_count": 0,
      "cell_type": "code",
      "metadata": {},
      "source": [
        "# -*- coding: utf-8 -*-\n",
        "import dataiku\n",
        "import pandas as pd, numpy as np\n",
        "from dataiku import pandasutils as pdu"
      ],
      "outputs": []
    },
    {
      "cell_type": "markdown",
      "metadata": {},
      "source": [
        "## Read recipe input dataset\n",
        "Dataiku manages data connections to datasources, enforcing security defined on the connections.\n",
        "The `dataiku` API lets you read data from the managed connections as pandas dataframes."
      ]
    },
    {
      "execution_count": 0,
      "cell_type": "code",
      "metadata": {},
      "source": [
        "# Read recipe inputs\n",
        "customer_data_clean \u003d dataiku.Dataset(\"customer_data_clean\")\n",
        "df \u003d customer_data_clean.get_dataframe()"
      ],
      "outputs": []
    },
    {
      "execution_count": 0,
      "cell_type": "code",
      "metadata": {},
      "source": [
        "df.head()"
      ],
      "outputs": []
    },
    {
      "cell_type": "markdown",
      "metadata": {},
      "source": [
        "## Drop duplicates\n",
        "This is what this code recipe does."
      ]
    },
    {
      "execution_count": 0,
      "cell_type": "code",
      "metadata": {},
      "source": [
        "#Drop Duplicates\n",
        "df.drop_duplicates(subset\u003d\"customer_id\", keep\u003dFalse, inplace\u003dTrue)"
      ],
      "outputs": []
    },
    {
      "execution_count": 0,
      "cell_type": "code",
      "metadata": {},
      "source": [
        "df.head()"
      ],
      "outputs": []
    },
    {
      "cell_type": "markdown",
      "metadata": {},
      "source": [
        "## Write recipe output dataset\n",
        "Use the `dataiku` API to write the resulting pandas dataframe to the Dataiku-managed data connection."
      ]
    },
    {
      "execution_count": 0,
      "cell_type": "code",
      "metadata": {},
      "source": [
        "# Write recipe outputs\n",
        "customer_data_clean_python \u003d dataiku.Dataset(\"customer_data_clean_python\")\n",
        "customer_data_clean_python.write_with_schema(df)"
      ],
      "outputs": []
    }
  ]
}

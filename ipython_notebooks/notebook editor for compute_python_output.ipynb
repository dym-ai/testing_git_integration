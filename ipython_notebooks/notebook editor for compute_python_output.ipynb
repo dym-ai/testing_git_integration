{
  "nbformat": 4,
  "nbformat_minor": 0,
  "metadata": {
    "kernelspec": {
      "display_name": "Python 2",
      "language": "python",
      "name": "python2"
    },
    "associatedRecipe": "compute_python_output",
    "creator": "admin",
    "createdOn": 1627949448309,
    "tags": [
      "recipe-editor"
    ],
    "customFields": {}
  },
  "cells": [
    {
      "cell_type": "code",
      "metadata": {},
      "outputs": [],
      "execution_count": 0,
      "source": [
        "# -*- coding: utf-8 -*-\n",
        "import dataiku\n",
        "import pandas as pd, numpy as np\n",
        "from dataiku import pandasutils as pdu\n",
        "\n",
        "# Read recipe inputs\n",
        "asset_modelisation_table \u003d dataiku.Dataset(\"Asset_modelisation_table\")\n",
        "asset_modelisation_table_df \u003d asset_modelisation_table.get_dataframe()\n",
        "\n",
        "\n",
        "# Compute recipe outputs from inputs\n",
        "\n",
        "\n",
        "\n",
        "python_output_df \u003d asset_modelisation_table_df # For this sample code, simply copy input to output\n",
        "\n",
        "\n",
        "# Write recipe outputs\n",
        "python_output \u003d dataiku.Dataset(\"python_output\")\n",
        "python_output.write_with_schema(python_output_df)"
      ]
    }
  ]
}
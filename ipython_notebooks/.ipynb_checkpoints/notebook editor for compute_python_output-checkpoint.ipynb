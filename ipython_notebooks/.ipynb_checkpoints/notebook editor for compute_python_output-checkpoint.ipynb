{
  "nbformat": 4,
  "nbformat_minor": 0,
  "metadata": {
    "kernelspec": {
      "display_name": "Python 3",
      "language": "python",
      "name": "python3"
    },
    "associatedRecipe": "compute_python_output",
    "dkuGit": {
      "lastInteraction": 0
    },
    "creationTag": {
      "versionNumber": 0,
      "lastModifiedBy": {
        "login": "admin"
      },
      "lastModifiedOn": 1627949448309
    },
    "creator": "admin",
    "createdOn": 1627949448309,
    "tags": [
      "recipe-editor"
    ],
    "customFields": {}
  },
  "cells": [
    {
      "cell_type": "code",
      "metadata": {},
      "outputs": [],
      "execution_count": 0,
      "source": [
        "# -*- coding: utf-8 -*-\n",
        "import dataiku\n",
        "import pandas as pd, numpy as np\n",
        "from dataiku import pandasutils as pdu\n",
        "\n",
        "# Read recipe inputs\n",
        "asset_modelisation_table \u003d dataiku.Dataset(\"Asset_modelisation_table\")\n",
        "asset_modelisation_table_df \u003d asset_modelisation_table.get_dataframe()"
      ]
    },
    {
      "cell_type": "code",
      "metadata": {},
      "outputs": [],
      "execution_count": 0,
      "source": [
        "# Compute recipe outputs from inputs\n",
        "python_output_df \u003d asset_modelisation_table_df # For this sample code, simply copy input to output"
      ]
    },
    {
      "cell_type": "code",
      "metadata": {},
      "outputs": [],
      "execution_count": 0,
      "source": [
        "# Write recipe outputs\n",
        "python_output \u003d dataiku.Dataset(\"python_output\")\n",
        "python_output.write_with_schema(python_output_df)"
      ]
    }
  ]
}